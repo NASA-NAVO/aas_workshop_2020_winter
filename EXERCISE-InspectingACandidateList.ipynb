{
 "cells": [
  {
   "cell_type": "markdown",
   "metadata": {},
   "source": [
    "# Science User Case - Inspecting a Candidate List"
   ]
  },
  {
   "cell_type": "markdown",
   "metadata": {},
   "source": [
    "Ogle et al. (2016) mined the NASA/IPAC Extragalactic Database (NED) to identify a new type of galaxy: Superluminous Spiral Galaxies.\n",
    "\n",
    "Here's the paper: https://ui.adsabs.harvard.edu//#abs/2016ApJ...817..109O/abstract\n",
    "\n",
    "Table 1 lists the positions of these Super Spirals. Based on those positions, let's create multiwavelength cutouts for each super spiral to see what is unique about this new class of objects."
   ]
  },
  {
   "cell_type": "markdown",
   "metadata": {},
   "source": [
    "## 1. Import the Python modules we'll be using."
   ]
  },
  {
   "cell_type": "code",
   "execution_count": null,
   "metadata": {},
   "outputs": [],
   "source": [
    "# Suppress unimportant warnings.\n",
    "import warnings\n",
    "warnings.filterwarnings(\"ignore\", module=\"astropy.io.votable.*\")\n",
    "warnings.filterwarnings(\"ignore\", module=\"pyvo.utils.xml.*\")\n",
    "warnings.filterwarnings('ignore', '.*RADECSYS=*', append=True)\n",
    "\n",
    "import matplotlib.pyplot as plt\n",
    "import numpy as np\n",
    "\n",
    "from astropy.coordinates import SkyCoord\n",
    "from astropy.io import fits\n",
    "from astropy.nddata import Cutout2D\n",
    "import astropy.visualization as vis\n",
    "from astropy.wcs import WCS\n",
    "from astroquery.ned import Ned\n",
    "\n",
    "import pyvo as vo"
   ]
  },
  {
   "cell_type": "markdown",
   "metadata": {},
   "source": [
    "## 2. Search NED for objects in this paper.\n",
    "\n",
    "Consult QuickReference.md to figure out how to use astroquery to search NED for all objects in a paper, based on the refcode of the paper. Inspect the resulting astropy table."
   ]
  },
  {
   "cell_type": "markdown",
   "metadata": {},
   "source": [
    "## 3. Filter the NED results.\n",
    "\n",
    "The results from NED will include galaxies, but also other kinds of objects. Print the 'Type' column to see the full range of classifications. Next, print the 'Type' of just the first source in the table, in order to determine its data type (since Python 3 distinguishes between strings and byte strings). Finally, use the data type information to filter the results so that we only keep the galaxies in the list."
   ]
  },
  {
   "cell_type": "markdown",
   "metadata": {},
   "source": [
    "## 4. Search the NAVO Registry for image resources.\n",
    "\n",
    "The paper selected super spirals using WISE, SDSS, and GALEX images. Search the NAVO registry for all image resources, using the 'service_type' search parameter. How many image resources are currently available?"
   ]
  },
  {
   "cell_type": "markdown",
   "metadata": {},
   "source": [
    "## 5. Search the NAVO Registry for image resources that will allow you to search for AllWISE images.\n",
    "\n",
    "There are hundreds of image resources...too many to quickly read through. Try adding the 'keyword' search parameter to your registry search, and find the image resource you would need to search the AllWISE images. Remember from the Known Issues that 'keywords' must be a list."
   ]
  },
  {
   "cell_type": "markdown",
   "metadata": {},
   "source": [
    "## 6. Select the AllWISE image service that you are interested in.\n",
    "\n",
    "Hint: there should be only one service after searching with ['allwise']"
   ]
  },
  {
   "cell_type": "markdown",
   "metadata": {},
   "source": [
    "## 7. Make a SkyCoord from the first galaxy in the NED list."
   ]
  },
  {
   "cell_type": "code",
   "execution_count": null,
   "metadata": {},
   "outputs": [],
   "source": [
    "ra = galaxies['RA'][0]\n",
    "dec = galaxies['DEC'][0]\n",
    "pos = SkyCoord(ra, dec, unit = 'deg')"
   ]
  },
  {
   "cell_type": "markdown",
   "metadata": {},
   "source": [
    "## 8. Search for a list of AllWISE images that cover this galaxy.\n",
    "\n",
    "How many images are returned? Which are you most interested in?"
   ]
  },
  {
   "cell_type": "markdown",
   "metadata": {},
   "source": [
    "## 9. Use the .to_table() method to view the results as an Astropy table."
   ]
  },
  {
   "cell_type": "markdown",
   "metadata": {},
   "source": [
    "## 10. From the result in 8., select the first record for an image taken in WISE band W1 (3.6 micron)\n",
    "\n",
    "Hints: \n",
    "* Loop over records and test on the `.bandpass_id` attribute of each record\n",
    "* Print the `.title` and `.bandpass_id` of the record you find, to verify it is the right one."
   ]
  },
  {
   "cell_type": "markdown",
   "metadata": {},
   "source": [
    "## 11. Visualize this AllWISE image."
   ]
  },
  {
   "cell_type": "code",
   "execution_count": null,
   "metadata": {},
   "outputs": [],
   "source": [
    "allwise_w1_image = fits.open(allwise_image_record.getdataurl())"
   ]
  },
  {
   "cell_type": "code",
   "execution_count": null,
   "metadata": {},
   "outputs": [],
   "source": [
    "fig = plt.figure()\n",
    "\n",
    "wcs = WCS(allwise_w1_image[0].header)\n",
    "ax = fig.add_subplot(1, 1, 1, projection=wcs)\n",
    "ax.imshow(allwise_w1_image[0].data, cmap='gray_r', origin='lower', vmax = 10)\n",
    "ax.scatter(ra, dec, transform=ax.get_transform('fk5'), s=500, edgecolor='red', facecolor='none')"
   ]
  },
  {
   "cell_type": "markdown",
   "metadata": {},
   "source": [
    "## 12. Plot a cutout of the AllWISE image, centered on your position.\n",
    "\n",
    "Try a 60 arcsecond cutout. Use `Cutout2D` that we imported earlier."
   ]
  },
  {
   "cell_type": "markdown",
   "metadata": {},
   "source": [
    "## 13. Try visualizing a cutout of a GALEX image that covers your position.\n",
    "\n",
    "Repeat steps 4, 5, 6, 8 through 12 for GALEX."
   ]
  },
  {
   "cell_type": "markdown",
   "metadata": {},
   "source": [
    "## 14. Try visualizing a cutout of an SDSS image that covers your position.\n",
    "\n",
    "Hints:\n",
    "* Search the registry using `keywords=['sloan']\n",
    "* Find the service with a `short_name` of `b'SDSS SIAP'`\n",
    "* From Known Issues, recall that an empty string must be specified to the `format` parameter dues to a bug in the service.\n",
    "* After obtaining your search results, select r-band images using the `.title` attribute of the records that are returned, since `.bandpass_id` is not populated."
   ]
  },
  {
   "cell_type": "markdown",
   "metadata": {},
   "source": [
    "## 15. Try looping over the first few positions and plotting multiwavelength cutouts."
   ]
  }
 ],
 "metadata": {
  "kernelspec": {
   "display_name": "Python 3",
   "language": "python",
   "name": "python3"
  },
  "language_info": {
   "codemirror_mode": {
    "name": "ipython",
    "version": 3
   },
   "file_extension": ".py",
   "mimetype": "text/x-python",
   "name": "python",
   "nbconvert_exporter": "python",
   "pygments_lexer": "ipython3",
   "version": "3.6.7"
  }
 },
 "nbformat": 4,
 "nbformat_minor": 4
}
