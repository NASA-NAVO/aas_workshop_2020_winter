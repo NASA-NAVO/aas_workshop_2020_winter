{
 "cells": [
  {
   "cell_type": "markdown",
   "metadata": {},
   "source": [
    "# 1. Overview\n",
    "NASA services can be queried from Python in multiple ways.\n",
    "* Generic Virtual Observatory (VO) queries.\n",
    "  * Call sequence is consistent, including for non-NASA resources.\n",
    "  * Use the `pyvo` package: https://pyvo.readthedocs.io/en/latest/\n",
    "  * Known issues/caveats: https://github.com/NASA-NAVO/aas_workshop_2020_winter/blob/master/KNOWN_ISSUES.md\n",
    "* Astroquery interfaces\n",
    "  * Call sequences not quite as consistent, but follow similar patterns.\n",
    "  * See https://astroquery.readthedocs.io/en/latest/\n",
    "* Ad hoc archive-specific interfaces\n",
    "\n",
    "# 2. VO Services"
   ]
  },
  {
   "cell_type": "code",
   "execution_count": null,
   "metadata": {},
   "outputs": [],
   "source": [
    "# Generic VO access routines\n",
    "import pyvo as vo\n",
    "\n",
    "# For specifying coordinates and angles\n",
    "from astropy.coordinates import SkyCoord\n",
    "from astropy.units import Quantity\n",
    "\n",
    "\n",
    "# For downloading files\n",
    "from astropy.utils.data import download_file\n",
    "\n",
    "# Ignore unimportant warnings\n",
    "import warnings\n",
    "warnings.filterwarnings('ignore', '.*Unknown element mirrorURL.*', vo.utils.xml.elements.UnknownElementWarning)"
   ]
  },
  {
   "cell_type": "markdown",
   "metadata": {},
   "source": [
    "## 2.1 Lookup Services in VO Directory (Registry)"
   ]
  },
  {
   "cell_type": "code",
   "execution_count": null,
   "metadata": {},
   "outputs": [],
   "source": [
    "# Simple example:  Find Simple Cone Search (conesearch) services related to SWIFT.\n",
    "services = vo.regsearch(servicetype='conesearch',keywords=['swift'])\n",
    "services_table = services.to_table()\n",
    "services_table['short_name','res_title', 'res_description']"
   ]
  },
  {
   "cell_type": "markdown",
   "metadata": {},
   "source": [
    "### 2.1.1 Use different arguments/values to modify the simple example\n",
    "| Argument | Description | Examples |\n",
    "| :-----: | :-----------: | :--------: |\n",
    "| **servicetype** | Type of service | ‘conesearch’, ‘sia’ , ‘ssa’, ‘slap’, ‘tap’ |\n",
    "| **keyword** | Results will contain the keyword in ivoid, title, or description | 'galex', 'swift' |\n",
    "| **waveband** | Resulting services have data in the specified waveband(s) | ‘radio’, ‘millimeter’, ‘infrared’, ‘optical’, ‘uv’, ‘euv’, ‘x-ray’ ‘gamma-ray’ |\n",
    "\n",
    "### 2.1.2 Inspect the results.\n",
    "See http://docs.astropy.org/en/stable/table/ for more on working with Astropy Tables."
   ]
  },
  {
   "cell_type": "code",
   "execution_count": null,
   "metadata": {},
   "outputs": [],
   "source": [
    "print('Number of rows and the column names:')\n",
    "print(services_table.info)\n",
    "\n",
    "print('\\nDefault display of Astropy Table:')\n",
    "print(services_table)\n",
    "\n",
    "print('\\nFirst 3 short names and descriptions:')\n",
    "print(services_table[:3]['short_name', 'res_title'])"
   ]
  },
  {
   "cell_type": "code",
   "execution_count": null,
   "metadata": {},
   "outputs": [],
   "source": [
    "swiftuvot_services = services_table[services_table['short_name'] == b'SwiftUVOT'] # Filter the results by column value.\n",
    "swiftuvot_services['short_name', 'res_description']"
   ]
  },
  {
   "cell_type": "markdown",
   "metadata": {},
   "source": [
    "## 2.2 Cone search\n",
    "Example:  Find a cone search service for the USNO-B catalog and search it around M51 with a .1 degree radius.  (More inspection could be done on the service list instead of blindly choosing the first service.)  The *coords* argument can be anything accepted by: https://astroquery.readthedocs.io/en/latest/api/astroquery.utils.parse_coordinates.html#astroquery.utils.parse_coordinates\n",
    "\n",
    "More information on creating Astropy SkyCoord objects: http://docs.astropy.org/en/stable/api/astropy.coordinates.SkyCoord.html"
   ]
  },
  {
   "cell_type": "code",
   "execution_count": null,
   "metadata": {},
   "outputs": [],
   "source": [
    "m51_pos = SkyCoord.from_name(\"m51\")\n",
    "\n",
    "services = vo.regsearch(servicetype='conesearch', keywords='usno-b')\n",
    "results = services[0].search(pos=m51_pos, radius=0.1)\n",
    "results.to_table()"
   ]
  },
  {
   "cell_type": "markdown",
   "metadata": {},
   "source": [
    "## 2.3 Image search\n",
    "Example:  Find an image search service for GALEX, and search it around coordinates 13:37:00.950,-29:51:55.51 (M83) with a radius of .2 degrees.  Download the first file in the results.\n",
    "#### Find an image service"
   ]
  },
  {
   "cell_type": "code",
   "execution_count": null,
   "metadata": {},
   "outputs": [],
   "source": [
    "services = vo.regsearch(servicetype='image', keywords=['galex'])\n",
    "services.to_table()['ivoid', 'short_name', 'res_title']"
   ]
  },
  {
   "cell_type": "markdown",
   "metadata": {},
   "source": [
    "#### Search one of the services\n",
    "The first service looks good.  Search it!\n",
    "\n",
    "For more details on using `SkyCoord` see http://docs.astropy.org/en/stable/api/astropy.coordinates.SkyCoord.html#astropy.coordinates.SkyCoord"
   ]
  },
  {
   "cell_type": "code",
   "execution_count": null,
   "metadata": {},
   "outputs": [],
   "source": [
    "m83_pos = SkyCoord('13h37m00.950s -29d51m55.51s')\n",
    "results = services[0].search(pos=m83_pos, size=.2)\n",
    "\n",
    "# We can look at the results.\n",
    "results.to_table()"
   ]
  },
  {
   "cell_type": "markdown",
   "metadata": {},
   "source": [
    "#### Download an image\n",
    "For the first result, print the file format and download the file. If repeatedly executing this code, add `cache=True` to `download_file()` to prevent repeated downloads.\n",
    "\n",
    "See `download_file()` documentation here: https://docs.astropy.org/en/stable/api/astropy.utils.data.download_file.html#astropy.utils.data.download_file"
   ]
  },
  {
   "cell_type": "code",
   "execution_count": null,
   "metadata": {},
   "outputs": [],
   "source": [
    "print(results[0].format)\n",
    "file_name = download_file(results[0].getdataurl())  \n",
    "file_name"
   ]
  },
  {
   "cell_type": "markdown",
   "metadata": {},
   "source": [
    "## 2.4 Spectral search\n",
    "Example:  Find a spectral service for x-ray data.  Query it around Delta Ori with a search **diameter** of 10 arc minutes, and download the first data product.  Note that the results table can be inspected for potentially useful columns.\n",
    "\n",
    "Spectral search is very similar to image search. In this example, note:\n",
    "* **`diameter` defines the size of the search region**\n",
    "* `waveband` used in `regsearch()`\n",
    "* Astropy `Quantity` used to specify radius units other than degrees."
   ]
  },
  {
   "cell_type": "code",
   "execution_count": null,
   "metadata": {},
   "outputs": [],
   "source": [
    "# Search for a spectrum search service that has x-ray data.\n",
    "services = vo.regsearch(servicetype='spectrum', waveband='x-ray')\n",
    "\n",
    "# Assuming there are services and the first one is OK...\n",
    "results = services[0].search(pos=SkyCoord.from_name(\"Delta Ori\"), \n",
    "                             diameter=Quantity(10, unit=\"arcmin\"))\n",
    "\n",
    "# Assuming there are results, download the first file.\n",
    "print(f'Title: {results[0].title}, Format: {results[0].format}')\n",
    "file_name = download_file(results[0].getdataurl())  \n",
    "file_name"
   ]
  },
  {
   "cell_type": "markdown",
   "metadata": {},
   "source": [
    "## 2.5 Table search\n",
    "Example:  Find the HEASARC Table Access Protocol (TAP) service, get some information about the available tables."
   ]
  },
  {
   "cell_type": "code",
   "execution_count": null,
   "metadata": {},
   "outputs": [],
   "source": [
    "services = vo.regsearch(servicetype='tap', keywords='heasarc')\n",
    "print(f'{len(services)} service(s) found.')\n",
    "\n",
    "# We found only one service.  Print some info about the service and its tables.\n",
    "print(f'Title: {services[0].res_title}')\n",
    "print(f'{services[0].res_description}')\n",
    "      \n",
    "tables = services[0].service.tables  # Queries for details of the service's tables\n",
    "print(f'{len(tables)} tables:')\n",
    "for t in tables:\n",
    "    print(f'{t.name:30s} - {t.description}')  # A more succinct option than t.describe()"
   ]
  },
  {
   "cell_type": "markdown",
   "metadata": {},
   "source": [
    "#### Column Information\n",
    "For any table, we can list the column names and descriptions."
   ]
  },
  {
   "cell_type": "code",
   "execution_count": null,
   "metadata": {},
   "outputs": [],
   "source": [
    "for c in tables['zcat'].columns:\n",
    "    print(f'{c.name:30s} - {c.description}')"
   ]
  },
  {
   "cell_type": "markdown",
   "metadata": {},
   "source": [
    "#### Perform a Query\n",
    "Example:  Perform a cone search on the ZCAT catalog."
   ]
  },
  {
   "cell_type": "code",
   "execution_count": null,
   "metadata": {},
   "outputs": [],
   "source": []
  },
  {
   "cell_type": "markdown",
   "metadata": {},
   "source": [
    "# 3. Astroquery \n",
    "Many archives have Astroquery modules for data access, including:\n",
    "\n",
    "* [HEASARC Queries (astroquery.heasarc)](https://astroquery.readthedocs.io/en/latest/heasarc/heasarc.html)\n",
    "* [HITRAN Queries (astroquery.hitran)](https://astroquery.readthedocs.io/en/latest/hitran/hitran.html)\n",
    "* [IRSA Image Server program interface (IBE) Queries (astroquery.ibe)](https://astroquery.readthedocs.io/en/latest/ibe/ibe.html)\n",
    "* [IRSA Queries (astroquery.irsa)](https://astroquery.readthedocs.io/en/latest/irsa/irsa.html)\n",
    "* [IRSA Dust Extinction Service Queries (astroquery.irsa_dust)](https://astroquery.readthedocs.io/en/latest/irsa/irsa_dust.html)\n",
    "* [JPL Spectroscopy Queries (astroquery.jplspec)](https://astroquery.readthedocs.io/en/latest/jplspec/jplspec.html)\n",
    "* [MAST Queries (astroquery.mast)](https://astroquery.readthedocs.io/en/latest/mast/mast.html)\n",
    "* [NASA ADS Queries (astroquery.nasa_ads)](https://astroquery.readthedocs.io/en/latest/nasa_ads/nasa_ads.html)\n",
    "* [NED Queries (astroquery.ned)](https://astroquery.readthedocs.io/en/latest/ned/ned.html)\n",
    "\n",
    "For more, see https://astroquery.readthedocs.io/en/latest/\n",
    "\n",
    "## 3.1 NED\n",
    "Example:  Get an Astropy Table containing the objects from paper 2018ApJ...858...62K.  For more on the API, see https://astroquery.readthedocs.io/en/latest/ned/ned.html "
   ]
  },
  {
   "cell_type": "markdown",
   "metadata": {},
   "source": []
  }
 ],
 "metadata": {
  "kernelspec": {
   "display_name": "Python 3",
   "language": "python",
   "name": "python3"
  },
  "language_info": {
   "codemirror_mode": {
    "name": "ipython",
    "version": 3
   },
   "file_extension": ".py",
   "mimetype": "text/x-python",
   "name": "python",
   "nbconvert_exporter": "python",
   "pygments_lexer": "ipython3",
   "version": "3.6.7"
  }
 },
 "nbformat": 4,
 "nbformat_minor": 4
}
