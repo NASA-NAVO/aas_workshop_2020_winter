{
 "cells": [
  {
   "cell_type": "markdown",
   "metadata": {},
   "source": [
    "# Accessing  astronomical catalogs\n",
    "\n",
    "There are two ways to access astronomical data catalogs that are provided as table data with a VO API.\n",
    "\n",
    "First, there is a __[Simple Cone Search (SCS) protocol](http://www.ivoa.net/documents/latest/ConeSearch.html)__  used to search a given table with a given position and radius, getting back a table of results.  The interface requires only a position and search radius.   \n",
    "\n",
    "For more complicated searches, the __[Table Access Protocol](http://www.ivoa.net/documents/TAP/)__ (TAP) protocol is  a powerful tool to search any VO table.  Here, we expand on its usage and that of the __[Astronomical Data Query Language](http://www.ivoa.net/documents/latest/ADQL.html)__ (ADQL) that it uses.  \n",
    "\n",
    "\n",
    "* [1. Simple cone search](#cone) queries\n",
    "* [2. Basic Table Access Protocol](#basic) queries\n",
    "* [3 Expressing queries in ADQL](#adql)\n",
    "* [4. Cross-correlating](#cc) our own catalog with a HEASARC catalog\n",
    "* [5. Combining](#combo) data from multiple catalogs and cross-correlating\n",
    "\n"
   ]
  },
  {
   "cell_type": "code",
   "execution_count": null,
   "metadata": {},
   "outputs": [],
   "source": [
    "# suppress some specific warnings that are not important\n",
    "import warnings\n",
    "warnings.filterwarnings(\"ignore\", module=\"astropy.io.votable.*\")\n",
    "warnings.filterwarnings(\"ignore\", module=\"pyvo.utils.xml.*\")\n",
    "\n",
    "import io\n",
    "import numpy as np\n",
    "\n",
    "# Astropy imports\n",
    "import astropy.units as u\n",
    "import astropy.constants as const\n",
    "from astropy.coordinates import SkyCoord\n",
    "from astropy.cosmology import Planck15\n",
    "from astropy.io import votable as apvot\n",
    "\n",
    "## Generic VO access routines\n",
    "import pyvo as vo\n"
   ]
  },
  {
   "cell_type": "markdown",
   "metadata": {},
   "source": [
    "<a id=\"scs1\"></a>\n",
    "\n",
    "# 1. Simple cone search\n"
   ]
  },
  {
   "cell_type": "markdown",
   "metadata": {},
   "source": [
    "Starting with a single simple source first: "
   ]
  },
  {
   "cell_type": "code",
   "execution_count": null,
   "metadata": {},
   "outputs": [],
   "source": [
    "coord = SkyCoord.from_name(\"m51\")\n",
    "print(coord)"
   ]
  },
  {
   "cell_type": "markdown",
   "metadata": {},
   "source": [
    "Below, we go through the exercise of how we can figure out the most relevant table. But for now, let's assume that we know that we want the CFA redshift catalog refered to as 'zcat'. VO services are listed in a central Registry that can be searched through a [web interface](http://vao.stsci.edu/keyword-search/) or using PyVO's `regsearch`.  We use the registry to find the corresponding cone service and then submit our cone search. \n",
    "\n",
    "Registry services are of the following type:  \n",
    "* simple cone search:  \"scs\"\n",
    "* table access protocol:  \"tap\" or \"table\"\n",
    "* simple image search:  \"sia\" or \"image\"\n",
    "* simple spectral access: \"ssa\"\n",
    "\n",
    "There are a number of things in the registry related to 'zcat' so we find the specific one that we want, which is the CFA version:"
   ]
  },
  {
   "cell_type": "code",
   "execution_count": null,
   "metadata": {},
   "outputs": [],
   "source": [
    "services = vo.regsearch(servicetype='scs', keywords=['zcat'])\n",
    "services.to_table()['ivoid', 'short_name', 'res_title']"
   ]
  },
  {
   "cell_type": "markdown",
   "metadata": {},
   "source": [
    "Supposing that we want the table with the short_name CFAZ, and we want to retrieve the data for all sources within an arcminute of our specified location:\n",
    "\n",
    "(Note that currently, it's a bit ugly to retrieve the specific service we want.)  "
   ]
  },
  {
   "cell_type": "code",
   "execution_count": null,
   "metadata": {},
   "outputs": [],
   "source": [
    "## Use the one that's CFAZ. \n",
    "##  Use list comprehension to check each service's short_name attribute and use the first.\n",
    "cfaz_cone_service = [s for s in services if 'CFAZ' in s.short_name][0] \n",
    "\n",
    "## We are searching for sources within 10 arcminutes of M51. \n",
    "results = cfaz_cone_service.search(pos=coord, radius=10*u.arcmin)\n",
    "results.to_table()\n"
   ]
  },
  {
   "cell_type": "markdown",
   "metadata": {},
   "source": [
    "The SCS is quite straightforward and returns all of the columns of the given table (which can be anything) for the sources in the region queried."
   ]
  },
  {
   "cell_type": "markdown",
   "metadata": {},
   "source": [
    "<a id=\"basic\"></a>\n",
    "\n",
    "# 2. Basic Table Access Protocol queries\n",
    "\n",
    "A TAP query is the most powerful way to search a catalog. A Simple Cone Search only allows you to ask for a position and radius, but TAP allows you to do much more, since the available tables contain much more information. \n",
    "\n"
   ]
  },
  {
   "cell_type": "markdown",
   "metadata": {},
   "source": [
    "Many services list a single TAP service in the Registry that can access many catalogs, boosting your efficiency. This is the power of the TAP! \n",
    "With the TAP, you can refine the search based on any other attribute in the given catalog. Suppose for our example, we want to select bright galaxy candidates but don't know the coordinates. Therefore, we start from figuring out the best table to query.   "
   ]
  },
  {
   "cell_type": "markdown",
   "metadata": {},
   "source": [
    "As before, we use the vo.regsearch() for a servicetype 'tap'.  There are a lot of TAP services in the registry, so we're going to limit our search to those related to the HEASARC.  "
   ]
  },
  {
   "cell_type": "code",
   "execution_count": null,
   "metadata": {},
   "outputs": [],
   "source": [
    "heasarc_tap_services = vo.regsearch(servicetype='tap', keywords=['heasarc'])\n",
    "heasarc_tap_services.to_table()['ivoid', 'short_name', 'res_title']"
   ]
  },
  {
   "cell_type": "markdown",
   "metadata": {},
   "source": [
    "So there's only one HEASARC TAP service.  But it serves many different tables.  What are they?  This sends a query to the service to ask.  Then let's look for results related to the string 'zcat':"
   ]
  },
  {
   "cell_type": "code",
   "execution_count": null,
   "metadata": {},
   "outputs": [],
   "source": [
    "heasarc_tables = heasarc_tap_services[0].service.tables\n",
    "for tablename in heasarc_tables.keys():\n",
    "    if \"zcat\" in tablename:  \n",
    "        heasarc_tables[tablename].describe()\n",
    "        print(\"Columns={}\".format(sorted([k.name for k in heasarc_tables[tablename].columns ])))\n",
    "        print(\"----\")"
   ]
  },
  {
   "cell_type": "markdown",
   "metadata": {},
   "source": [
    "Success! This appears to be useful table for our goal since it contains columns with the information that we need to select a sample of the brightest nearby spiral galaxy candidates. \n",
    "\n",
    "Now that we know all the possible column information in the zcat catalog, we can do more than query on position (as in a cone search) but also on any other column (e.g., redshift, bmag, morph_type).  The query has to be expressed in a language called __[ADQL](http://www.ivoa.net/documents/latest/ADQL.html)__.  \n"
   ]
  },
  {
   "cell_type": "markdown",
   "metadata": {},
   "source": [
    "<a id=\"adql\"></a>\n",
    "\n",
    "# 3. Expressing queries in ADQL"
   ]
  },
  {
   "cell_type": "markdown",
   "metadata": {},
   "source": [
    "\n",
    "The basics of ADQL:\n",
    "\n",
    "* *SELECT &#42; FROM my.interesting.catalog as cat...* \n",
    "\n",
    "says you want all (\"&#42;\") columns from the catalog called \"my.interesting.catalog\", which you will refer to in the rest of the query by the more compact name of \"cat\".  \n",
    "\n",
    "Instead of returning all columns, you can \n",
    "\n",
    "* *SELECT cat.RA, cat.DEC, cat.bmag from catalog as cat...* \n",
    "\n",
    "to only return the columns you're interested in. To use multiple catalogs, your query could start, e.g.,\n",
    "\n",
    "* *SELECT c1.RA,c1.DEC,c2.BMAG FROM catalog1 as c1 natural join catalog2 as c2...* \n",
    "\n",
    "says that you want to query two catalogs zipped together the \"natural\" way, i.e., by looking for a common column.\n",
    "\n",
    "To select only some rows of the catalog based on the value in a column, you can add:  \n",
    "\n",
    "* *WHERE cat.bmag < 14* \n",
    "\n",
    "says that you want to retrieve only those entries in the catalog whose bmag column has a value less than 14.\n",
    "\n",
    "You can also append \n",
    "\n",
    "* *ORDER by cat.bmag* \n",
    "\n",
    "to return the result sorted ascending by one of the columns, adding *DESC* to the end for descending. \n",
    "\n",
    "A few special functions in the ADQL allow you to query regions:\n",
    "\n",
    "* *WHERE contains( point('ICRS', cat.ra, cat.dec), circle('ICRS', 210.5, -6.5, 0.5))=1*\n",
    "\n",
    "is how you would ask for any catalog entries whose RA,DEC lie within a circular region defined by RA,DEC 210.5,-6.5 and a radius of 0.5 (all in degrees).  The 'ICRS' specifies the coordinate system.  \n",
    "\n",
    "See the ADQL documentation for more.\n",
    "\n",
    "Here is a simple ADQL query where we print out the relevant columns for the bright (Bmag <14) sources found within 1 degree of M51 (we will discuss how to define the table and column names below):"
   ]
  },
  {
   "cell_type": "code",
   "execution_count": null,
   "metadata": {},
   "outputs": [],
   "source": [
    "##  Inside the format call, the {} are replaced by the given variables in order.\n",
    "##  So this asks for \n",
    "##  rows of public.zcat where that row's ra and dec (cat.ra and cat.dec from the catalog) \n",
    "##  are within radius 1deg of the given RA and DEC we got above for M51 \n",
    "##  (coord.ra.deg and coord.dec.deg from our variables defined above), and where \n",
    "##  the bmag column is less than 14.  \n",
    "query = \"\"\"SELECT ra, dec, Radial_Velocity, radial_velocity_error, bmag, morph_type FROM public.zcat as cat where \n",
    "    contains(point('ICRS',cat.ra,cat.dec),circle('ICRS',{},{},1.0))=1 and\n",
    "    cat.bmag < 14\n",
    "    order by cat.radial_velocity_error \n",
    "    \"\"\".format(coord.ra.deg, coord.dec.deg)"
   ]
  },
  {
   "cell_type": "code",
   "execution_count": null,
   "metadata": {},
   "outputs": [],
   "source": [
    "results = heasarc_tap_services[0].service.run_async(query)\n",
    "#results=heasarc_tap_services[0].search(query) \n",
    "results.to_table()"
   ]
  },
  {
   "cell_type": "markdown",
   "metadata": {},
   "source": [
    "See the __[information on the zcat](https://heasarc.gsfc.nasa.gov/W3Browse/galaxy-catalog/zcat.html)__ for column information. (We will use the 'radial_velocity' column rather than the 'redshift' column.) We note that spiral galaxies have morph_type between 1 - 9. "
   ]
  },
  {
   "cell_type": "markdown",
   "metadata": {},
   "source": [
    "Therefore, we can generalize the query above to complete our exercise and select the brightest (bmag < 14), nearby (radial velocity < 3000), spiral ( morph_type = 1 - 9) galaxies as follows: "
   ]
  },
  {
   "cell_type": "code",
   "execution_count": null,
   "metadata": {},
   "outputs": [],
   "source": [
    "query = \"\"\"SELECT ra, dec, Radial_Velocity, radial_velocity_error, bmag, morph_type FROM public.zcat as cat where \n",
    "    cat.bmag < 14 and cat.morph_type between 1 and 9 and cat.Radial_Velocity < 3000 \n",
    "    order by cat.Radial_velocity \n",
    "    \"\"\".format(coord.ra.deg, coord.dec.deg)"
   ]
  },
  {
   "cell_type": "code",
   "execution_count": null,
   "metadata": {},
   "outputs": [],
   "source": [
    "results = heasarc_tap_services[0].service.run_async(query)\n",
    "#results = heasarc_tap_services[0].search(query)\n",
    "results.to_table()"
   ]
  },
  {
   "cell_type": "markdown",
   "metadata": {},
   "source": [
    "## Synchronous versus asynchronous queries\n",
    "\n",
    "There is one technical detail about TAP queries that you will need to know.  In the code cells above, there are two commands for sending the query, one of which is commented out.  This is because, with the TAP, there are two ways to send such queries.  The default when you use the `search()` method is to us a synchronous query, which means that the query is sent and the client waits for the response.  For large and complicated queries, this may time out, so there is another option.  The method `service.run_async()` uses an asynchronous query, which means that the query is sent, and then (under the hood without you needing to do anything), the method checks for a response.  From your point of view, these methods look the same;  PyVO is doing different things under the hood, but the method will not return until it has your result.  \n",
    "\n",
    "You need to know about these two methods for a couple of reasons.  First, some services will limit synchronous queries, i.e. they will not necessarily return *all* the results if there are too many of them.  An asynchronous query should have no such restrictions.  In the case of the HEASARC service that we use above, it does not matter, but you should be aware of this and be in the habit of using the asynchronous queries for complete results after an initial interactive exploration.  \n",
    "\n",
    "The second reason to be aware of this is that asynchronous queries may be queued by the service, and they can take a lot longer if the service is very busy or the job is very large.  (The synchronous option in this case may either time out, or it may return quickly but with incomplete results.)\n",
    "\n",
    "For very large queries, you may wish to use the `submit_job()`, `wait()`, and `fetch_results()` methods to avoid locking up your Python session, as described in the [pyvo documentation](https://pyvo.readthedocs.io/en/latest/dal/index.html#jobs).\n"
   ]
  },
  {
   "cell_type": "markdown",
   "metadata": {},
   "source": [
    "<a id=\"cc\"></a>\n",
    "# 4. TAP:  Using the TAP to cross-correlate our objects with a catalog"
   ]
  },
  {
   "cell_type": "markdown",
   "metadata": {},
   "source": [
    "TAP can also be a powerful way to collect a lot of useful information from existing catalogs in one quick step. For this exercise, we will start with a list of sources, uploaded from our own table, and do a 'cross-correlation' with the *zcat* table. \n",
    "\n",
    "For more on creating and working with VO tables, see that [notebook](CS_VO_Tables.ipynb).  Here, we just read one in that's already prepared:  \n"
   ]
  },
  {
   "cell_type": "markdown",
   "metadata": {},
   "source": [
    "(These take a while, i.e. half a minute.)"
   ]
  },
  {
   "cell_type": "code",
   "execution_count": null,
   "metadata": {},
   "outputs": [],
   "source": [
    "query=\"\"\"\n",
    "    SELECT cat.ra, cat.dec, Radial_Velocity, bmag, morph_type\n",
    "    FROM zcat cat, tap_upload.mysources mt \n",
    "    WHERE\n",
    "    contains(point('ICRS',cat.ra,cat.dec),circle('ICRS',mt.ra,mt.dec,0.01))=1\n",
    "    and Radial_Velocity > 0\n",
    "    ORDER by cat.ra\"\"\"\n",
    "zcattable = heasarc_tap_services[0].service.run_async(query, uploads={'mysources': 'data/my_sources.xml'})\n",
    "#zcattable = heasarc_tap_services[0].search(query, uploads={'mysources': 'data/my_sources.xml'})\n",
    "mytable = zcattable.to_table()\n",
    "mytable"
   ]
  },
  {
   "cell_type": "markdown",
   "metadata": {},
   "source": [
    "Therefore we now have the Bmag, morphological type and radial velocities for all the sources in our list with a single TAP query. "
   ]
  },
  {
   "cell_type": "markdown",
   "metadata": {},
   "source": [
    "<a id=\"combo\"></a>\n",
    "\n",
    "# 5.  Combining data from different catalogs and cross-correlating\n",
    "\n",
    "Our input list of sources contains galaxy pair candidates that may be interacting with each other. Therefore it would be interesting to know what the morphological type and the Bmagnitude are for the potential companions. \n",
    "\n",
    "In this advanced example, we want our search to be physically motivated since the criterion for galaxy interaction depends on the physical separation of the galaxies. Unlike the previous case, the search radius is not a constant, but varies for each candidate by the distance to the source. Specifically, we want to search for companions that are within 50 kpc of the candidate and therefore first need to find the angular diameter distance that corresponds to galaxy's distance (in our case the radial velocity).\n",
    "\n",
    "Therefore, we begin by taking our table of objects and adding an angDdeg column:"
   ]
  },
  {
   "cell_type": "code",
   "execution_count": null,
   "metadata": {},
   "outputs": [],
   "source": [
    "## The column 'radial_velocity' is c*z but doesn't include the unit; it is km/s\n",
    "## Get the speed of light from astropy.constants and express in km/s\n",
    "c = const.c.to(u.km/u.s).value \n",
    "redshifts = mytable['radial_velocity']/c \n",
    "mytable['redshift'] = redshifts\n",
    "physdist = 0.05*u.Mpc # 50 kpc physical distance\n",
    "\n",
    "angDdist = Planck15.angular_diameter_distance(mytable['redshift'])\n",
    "angDrad = np.arctan(physdist/angDdist)\n",
    "mytable['angDdeg'] = angDrad.to(u.deg)\n",
    "mytable"
   ]
  },
  {
   "cell_type": "markdown",
   "metadata": {},
   "source": [
    "This time, rather than write the table to disk, we'll keep it in memory and give Tap.query() a \"file-like\" object using io.BytesIO():"
   ]
  },
  {
   "cell_type": "code",
   "execution_count": null,
   "metadata": {},
   "outputs": [],
   "source": [
    "## In memory only, use an IO stream. \n",
    "vot_obj=io.BytesIO()\n",
    "apvot.writeto(apvot.from_table(mytable),vot_obj)\n",
    "## (Reset the \"file-like\" object to the beginning.)\n",
    "vot_obj.seek(0)"
   ]
  },
  {
   "cell_type": "markdown",
   "metadata": {},
   "source": [
    "Now we construct and run a query that uses the new angDdeg column in every row search. Note, we also don't want to list the original candidates since we know these are in the catalog and we want rather to find any companions. Therefore, we exclude the match if the radial velocities match exactly.\n",
    "\n",
    "This takes half a minute:"
   ]
  },
  {
   "cell_type": "code",
   "execution_count": null,
   "metadata": {},
   "outputs": [],
   "source": [
    "query=\"\"\"SELECT mt.ra, mt.dec, cat.ra, cat.dec, cat.Radial_Velocity, cat.morph_type, cat.bmag \n",
    "    FROM zcat cat, tap_upload.mytable mt \n",
    "    WHERE\n",
    "    contains(point('ICRS',cat.ra,cat.dec),circle('ICRS',mt.ra,mt.dec,mt.angDdeg))=1\n",
    "    and cat.Radial_Velocity > 0 and cat.radial_velocity != mt.radial_velocity\n",
    "    ORDER by cat.ra\"\"\"\n",
    "#  Currently broken due to a bug.\n",
    "#mytable2 = heasarc_tap_services[0].service.run_async(query, uploads={'mytable':vot_obj})\n",
    "mytable2 = heasarc_tap_services[0].search(query, uploads={'mytable':vot_obj})\n",
    "vot_obj.close()\n",
    "mytable2.to_table()"
   ]
  },
  {
   "cell_type": "markdown",
   "metadata": {},
   "source": [
    "#### Therefore, by adding new information to our original data table, we could cross-correlate with the TAP.  We find that, in our candidate list, there is one true pair of galaxies!"
   ]
  },
  {
   "cell_type": "code",
   "execution_count": null,
   "metadata": {},
   "outputs": [],
   "source": []
  }
 ],
 "metadata": {
  "anaconda-cloud": {},
  "kernelspec": {
   "display_name": "Python 3",
   "language": "python",
   "name": "python3"
  },
  "language_info": {
   "codemirror_mode": {
    "name": "ipython",
    "version": 3
   },
   "file_extension": ".py",
   "mimetype": "text/x-python",
   "name": "python",
   "nbconvert_exporter": "python",
   "pygments_lexer": "ipython3",
   "version": "3.6.7"
  }
 },
 "nbformat": 4,
 "nbformat_minor": 4
}
